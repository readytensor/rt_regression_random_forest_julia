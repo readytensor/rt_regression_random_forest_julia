{
 "cells": [
  {
   "cell_type": "markdown",
   "metadata": {},
   "source": [
    "## Imports"
   ]
  },
  {
   "cell_type": "code",
   "execution_count": 1,
   "metadata": {},
   "outputs": [],
   "source": [
    "# DO NOT CHANGE THESE LINES\n",
    "using Suppressor\n",
    "@suppress begin\n",
    "    using DataFrames, CSV, Random, Statistics, Serialization, LazyJSON, StatsBase, DecisionTree\n",
    "end"
   ]
  },
  {
   "cell_type": "markdown",
   "metadata": {},
   "source": [
    "## Paths"
   ]
  },
  {
   "cell_type": "code",
   "execution_count": 2,
   "metadata": {},
   "outputs": [],
   "source": [
    "# DO NOT CHANGE THESE LINES\n",
    "ROOT_DIR = dirname(pwd())\n",
    "MODEL_INPUTS_OUTPUTS = joinpath(ROOT_DIR, \"model_inputs_outputs\")\n",
    "INPUT_DIR = joinpath(MODEL_INPUTS_OUTPUTS, \"inputs\")\n",
    "INPUT_SCHEMA_DIR = joinpath(INPUT_DIR, \"schema\")\n",
    "DATA_DIR = joinpath(INPUT_DIR, \"data\")\n",
    "TRAIN_DIR = joinpath(DATA_DIR, \"training\")\n",
    "TEST_DIR = joinpath(DATA_DIR, \"testing\")\n",
    "MODEL_PATH = joinpath(MODEL_INPUTS_OUTPUTS, \"model\")\n",
    "MODEL_ARTIFACTS_PATH = joinpath(MODEL_PATH, \"artifacts\")\n",
    "OHE_ENCODER_FILE = joinpath(MODEL_ARTIFACTS_PATH, \"ohe.jld2\")\n",
    "PREDICTOR_DIR_PATH = joinpath(MODEL_ARTIFACTS_PATH, \"predictor\")\n",
    "PREDICTOR_FILE_PATH = joinpath(PREDICTOR_DIR_PATH, \"predictor.ser\")\n",
    "IMPUTATION_FILE = joinpath(MODEL_ARTIFACTS_PATH, \"imputation.ser\")\n",
    "TOP_CATEGORIES = joinpath(MODEL_ARTIFACTS_PATH, \"top_categories.ser\")\n",
    "\n",
    "if !isdir(MODEL_ARTIFACTS_PATH)\n",
    "    mkdir(MODEL_ARTIFACTS_PATH)\n",
    "end\n",
    "if !isdir(PREDICTOR_DIR_PATH)\n",
    "    mkdir(PREDICTOR_DIR_PATH)\n",
    "end"
   ]
  },
  {
   "cell_type": "markdown",
   "metadata": {},
   "source": [
    "### Reading the schema\n",
    "The schema contains metadata about the datasets. We will use the scehma to get information about the type of each feature (NUMERIC or CATEGORICAL) and the id and target features, this will be helpful in preprocessing stage."
   ]
  },
  {
   "cell_type": "code",
   "execution_count": 3,
   "metadata": {},
   "outputs": [
    {
     "data": {
      "text/plain": [
       "\"target\""
      ]
     },
     "execution_count": 3,
     "metadata": {},
     "output_type": "execute_result"
    }
   ],
   "source": [
    "# Reading a schema from a JSON file and extracting features\n",
    "file_name = first(filter(x -> endswith(x, \"json\"), readdir(INPUT_SCHEMA_DIR)))\n",
    "schema_path = joinpath(INPUT_SCHEMA_DIR, file_name)\n",
    "schema_string = read(schema_path, String)\n",
    "schema = LazyJSON.parse(schema_string)\n",
    "\n",
    "features = schema[\"features\"]\n",
    "numeric_features = String[]\n",
    "categorical_features = String[]\n",
    "nullable_features = String[]\n",
    "\n",
    "for f in features\n",
    "    if f[\"dataType\"] == \"CATEGORICAL\"\n",
    "        push!(categorical_features, f[\"name\"])\n",
    "    else\n",
    "        push!(numeric_features, f[\"name\"])\n",
    "    end\n",
    "    if f[\"nullable\"]\n",
    "        push!(nullable_features, f[\"name\"])\n",
    "    end\n",
    "end\n",
    "\n",
    "# Extracting ID and target features\n",
    "id_feature = schema[\"id\"][\"name\"]\n",
    "target_feature = schema[\"target\"][\"name\"]\n"
   ]
  },
  {
   "cell_type": "markdown",
   "metadata": {},
   "source": [
    "### Reading training data"
   ]
  },
  {
   "cell_type": "code",
   "execution_count": 4,
   "metadata": {},
   "outputs": [
    {
     "data": {
      "text/html": [
       "<div class=\"data-frame\"><p>160 rows × 4 columns</p><table class=\"data-frame\"><thead><tr><th></th><th>id</th><th>number</th><th>color</th><th>target</th></tr><tr><th></th><th title=\"String7\">String7</th><th title=\"Union{Missing, Float64}\">Float64?</th><th title=\"Union{Missing, String7}\">String7?</th><th title=\"Float64\">Float64</th></tr></thead><tbody><tr><th>1</th><td>YDDKTO</td><td><em>missing</em></td><td><em>missing</em></td><td>84.7411</td></tr><tr><th>2</th><td>FPLK2Z</td><td>3.3782</td><td>Red</td><td>26.2021</td></tr><tr><th>3</th><td>P2YCAP</td><td>2.248</td><td>Blue</td><td>112.355</td></tr><tr><th>4</th><td>IMT8XP</td><td>1.9806</td><td>Blue</td><td>109.826</td></tr><tr><th>5</th><td>5D9Q5F</td><td>0.5048</td><td>Red</td><td>1.0144</td></tr><tr><th>6</th><td>E0M2BZ</td><td>8.1929</td><td>Red</td><td>142.439</td></tr><tr><th>7</th><td>3KH01F</td><td><em>missing</em></td><td>Blue</td><td>301.406</td></tr><tr><th>8</th><td>CGI1TD</td><td>1.1673</td><td>Red</td><td>3.8925</td></tr><tr><th>9</th><td>ZHYPME</td><td>1.5919</td><td>Red</td><td>6.6605</td></tr><tr><th>10</th><td>1QJXJS</td><td>0.1463</td><td>Green</td><td>50.1892</td></tr><tr><th>11</th><td>PL8LA6</td><td>5.842</td><td>Green</td><td>124.099</td></tr><tr><th>12</th><td>T33LJB</td><td>8.7992</td><td>Green</td><td>213.649</td></tr><tr><th>13</th><td>ZJ2LV6</td><td>7.6324</td><td>Blue</td><td>224.14</td></tr><tr><th>14</th><td>514WEK</td><td>2.9973</td><td>Blue</td><td>120.965</td></tr><tr><th>15</th><td>AX1O4F</td><td>2.6222</td><td>Blue</td><td>116.374</td></tr><tr><th>16</th><td>WLFM1N</td><td>6.0104</td><td>Red</td><td>78.26</td></tr><tr><th>17</th><td>N10YME</td><td><em>missing</em></td><td>Blue</td><td>274.215</td></tr><tr><th>18</th><td>453ZT9</td><td>5.198</td><td>Green</td><td>109.236</td></tr><tr><th>19</th><td>YQEUHT</td><td>4.8402</td><td>Red</td><td>51.6955</td></tr><tr><th>20</th><td>PE915Q</td><td>4.5851</td><td>Blue</td><td>146.632</td></tr><tr><th>21</th><td>XOUDTA</td><td>8.3826</td><td>Blue</td><td>248.919</td></tr><tr><th>22</th><td>ETL54S</td><td>1.981</td><td>Blue</td><td>109.83</td></tr><tr><th>23</th><td>2D4IB9</td><td>4.2845</td><td>Blue</td><td>140.999</td></tr><tr><th>24</th><td>LL4WU1</td><td>8.1262</td><td>Green</td><td>190.197</td></tr><tr><th>25</th><td>F0H04O</td><td>9.7708</td><td>Blue</td><td>300.708</td></tr><tr><th>26</th><td>IEZ3FN</td><td>5.5758</td><td>Blue</td><td>167.755</td></tr><tr><th>27</th><td>1FDWQX</td><td>3.1924</td><td>Green</td><td>73.5747</td></tr><tr><th>28</th><td>28PR9S</td><td>0.1486</td><td>Green</td><td>50.1928</td></tr><tr><th>29</th><td>OP2I4U</td><td>8.4439</td><td>Red</td><td>151.041</td></tr><tr><th>30</th><td>H3KEY8</td><td><em>missing</em></td><td>Green</td><td>76.4774</td></tr><tr><th>&vellip;</th><td>&vellip;</td><td>&vellip;</td><td>&vellip;</td><td>&vellip;</td></tr></tbody></table></div>"
      ],
      "text/latex": [
       "\\begin{tabular}{r|cccc}\n",
       "\t& id & number & color & target\\\\\n",
       "\t\\hline\n",
       "\t& String7 & Float64? & String7? & Float64\\\\\n",
       "\t\\hline\n",
       "\t1 & YDDKTO & \\emph{missing} & \\emph{missing} & 84.7411 \\\\\n",
       "\t2 & FPLK2Z & 3.3782 & Red & 26.2021 \\\\\n",
       "\t3 & P2YCAP & 2.248 & Blue & 112.355 \\\\\n",
       "\t4 & IMT8XP & 1.9806 & Blue & 109.826 \\\\\n",
       "\t5 & 5D9Q5F & 0.5048 & Red & 1.0144 \\\\\n",
       "\t6 & E0M2BZ & 8.1929 & Red & 142.439 \\\\\n",
       "\t7 & 3KH01F & \\emph{missing} & Blue & 301.406 \\\\\n",
       "\t8 & CGI1TD & 1.1673 & Red & 3.8925 \\\\\n",
       "\t9 & ZHYPME & 1.5919 & Red & 6.6605 \\\\\n",
       "\t10 & 1QJXJS & 0.1463 & Green & 50.1892 \\\\\n",
       "\t11 & PL8LA6 & 5.842 & Green & 124.099 \\\\\n",
       "\t12 & T33LJB & 8.7992 & Green & 213.649 \\\\\n",
       "\t13 & ZJ2LV6 & 7.6324 & Blue & 224.14 \\\\\n",
       "\t14 & 514WEK & 2.9973 & Blue & 120.965 \\\\\n",
       "\t15 & AX1O4F & 2.6222 & Blue & 116.374 \\\\\n",
       "\t16 & WLFM1N & 6.0104 & Red & 78.26 \\\\\n",
       "\t17 & N10YME & \\emph{missing} & Blue & 274.215 \\\\\n",
       "\t18 & 453ZT9 & 5.198 & Green & 109.236 \\\\\n",
       "\t19 & YQEUHT & 4.8402 & Red & 51.6955 \\\\\n",
       "\t20 & PE915Q & 4.5851 & Blue & 146.632 \\\\\n",
       "\t21 & XOUDTA & 8.3826 & Blue & 248.919 \\\\\n",
       "\t22 & ETL54S & 1.981 & Blue & 109.83 \\\\\n",
       "\t23 & 2D4IB9 & 4.2845 & Blue & 140.999 \\\\\n",
       "\t24 & LL4WU1 & 8.1262 & Green & 190.197 \\\\\n",
       "\t25 & F0H04O & 9.7708 & Blue & 300.708 \\\\\n",
       "\t26 & IEZ3FN & 5.5758 & Blue & 167.755 \\\\\n",
       "\t27 & 1FDWQX & 3.1924 & Green & 73.5747 \\\\\n",
       "\t28 & 28PR9S & 0.1486 & Green & 50.1928 \\\\\n",
       "\t29 & OP2I4U & 8.4439 & Red & 151.041 \\\\\n",
       "\t30 & H3KEY8 & \\emph{missing} & Green & 76.4774 \\\\\n",
       "\t$\\dots$ & $\\dots$ & $\\dots$ & $\\dots$ & $\\dots$ \\\\\n",
       "\\end{tabular}\n"
      ],
      "text/plain": [
       "\u001b[1m160×4 DataFrame\u001b[0m\n",
       "\u001b[1m Row \u001b[0m│\u001b[1m id      \u001b[0m\u001b[1m number       \u001b[0m\u001b[1m color    \u001b[0m\u001b[1m target   \u001b[0m\n",
       "\u001b[1m     \u001b[0m│\u001b[90m String7 \u001b[0m\u001b[90m Float64?     \u001b[0m\u001b[90m String7? \u001b[0m\u001b[90m Float64  \u001b[0m\n",
       "─────┼───────────────────────────────────────────\n",
       "   1 │ YDDKTO  \u001b[90m missing      \u001b[0m\u001b[90m missing  \u001b[0m  84.7411\n",
       "   2 │ FPLK2Z         3.3782  Red        26.2021\n",
       "   3 │ P2YCAP         2.248   Blue      112.355\n",
       "   4 │ IMT8XP         1.9806  Blue      109.826\n",
       "   5 │ 5D9Q5F         0.5048  Red         1.0144\n",
       "   6 │ E0M2BZ         8.1929  Red       142.439\n",
       "   7 │ 3KH01F  \u001b[90m missing      \u001b[0m Blue      301.406\n",
       "   8 │ CGI1TD         1.1673  Red         3.8925\n",
       "   9 │ ZHYPME         1.5919  Red         6.6605\n",
       "  10 │ 1QJXJS         0.1463  Green      50.1892\n",
       "  11 │ PL8LA6         5.842   Green     124.099\n",
       "  ⋮  │    ⋮          ⋮           ⋮         ⋮\n",
       " 151 │ ZI08W8         7.1458  Blue      209.269\n",
       " 152 │ UAISMW         6.0316  Red        78.7927\n",
       " 153 │ MOX4IM  \u001b[90m missing      \u001b[0m Blue      108.19\n",
       " 154 │ UKKW5G         1.6807  Red         7.3304\n",
       " 155 │ GQDKZ8         7.4267 \u001b[90m missing  \u001b[0m 117.74\n",
       " 156 │ D4SCXE         4.3612  Green      92.401\n",
       " 157 │ 64YPV8  \u001b[90m missing      \u001b[0m Red        56.4753\n",
       " 158 │ 4F8XZK         8.2868  Red       145.629\n",
       " 159 │ GEX31T         3.0087  Green      71.1134\n",
       " 160 │ FA79Q4         4.9505  Green     103.965\n",
       "\u001b[36m                                 139 rows omitted\u001b[0m"
      ]
     },
     "execution_count": 4,
     "metadata": {},
     "output_type": "execute_result"
    }
   ],
   "source": [
    "# Read the CSV file into a DataFrame\n",
    "file_name = first(filter(x -> endswith(x, \".csv\"), readdir(TRAIN_DIR)))\n",
    "file_path = joinpath(TRAIN_DIR, file_name)\n",
    "train_df = DataFrame(CSV.File(file_path))"
   ]
  },
  {
   "cell_type": "markdown",
   "metadata": {},
   "source": [
    "## Data Preprocessing\n",
    "Data preprocessing is very important before training the model, as the data may contain missing values in some cells. Moreover, most of the learning algorithms cannot work with categorical data, thus the data has to be encoded.\n",
    "\n",
    "In this section we will impute the missing values and encode the categorical features. Afterwards the data will be ready to train the model."
   ]
  },
  {
   "cell_type": "markdown",
   "metadata": {},
   "source": [
    "##### Imputing missing data\n",
    "> The median value will be used to impute missing values of the numeric features and the mode will be used to impute categorical features.\n",
    "\n",
    "##### You can add your own preprocessing steps such as:\n",
    "<ul>\n",
    "<li>Normalization</li> <br>\n",
    "<li>Outlier removal</li><br>\n",
    "<li>Dropping or adding features</li><br>\n",
    "</ul>\n",
    "\n",
    "### Important note:\n",
    "<p> \n",
    "Saving the values used for imputation during training step is crucial. These values will be used to impute missing data in the testing set. This is very important to avoid the well known problem of data leakage. During testing, you should not make any assumptions about the data in hand, alternatively anything needed during the testing phase should be learned from the training phase. This is why we are creating a dictionary of values used during training to reuse these values during testing.\n",
    "</p>\n"
   ]
  },
  {
   "cell_type": "code",
   "execution_count": 5,
   "metadata": {},
   "outputs": [],
   "source": [
    "# Imputing missing data\n",
    "imputation_values = Dict{String, Any}()\n",
    "\n",
    "for column in nullable_features\n",
    "    if column in numeric_features\n",
    "        value = median(skipmissing(train_df[!, column]))\n",
    "    else\n",
    "        value = mode(skipmissing(train_df[!, column]))\n",
    "    end\n",
    "    train_df[!, column] = coalesce.(train_df[!, column], value)\n",
    "    imputation_values[column] = value\n",
    "end\n",
    "\n",
    "# Serialize the imputation_values dictionary to a binary file\n",
    "open(IMPUTATION_FILE, \"w\") do io\n",
    "    serialize(io, imputation_values)\n",
    "end\n"
   ]
  },
  {
   "cell_type": "markdown",
   "metadata": {},
   "source": [
    "##### Encoding Categorical features\n",
    "<p>\n",
    "The id column is just an identifier for the training example, so we will exclude it during the encoding phase.<br>\n",
    "Target feature will be label encoded in the next step.\n",
    "</p>\n"
   ]
  },
  {
   "cell_type": "code",
   "execution_count": 6,
   "metadata": {},
   "outputs": [
    {
     "data": {
      "text/plain": [
       "Dict{Any, Any} with 1 entry:\n",
       "  \"color\" => String7[\"Blue\", \"Red\", \"Green\"]"
      ]
     },
     "execution_count": 6,
     "metadata": {},
     "output_type": "execute_result"
    }
   ],
   "source": [
    "# Function to get top k categories\n",
    "function get_top_categories(df, features, n=10)\n",
    "    top_cats = Dict()\n",
    "    for feature in features\n",
    "        col_data = df[!, feature]\n",
    "        category_counts = StatsBase.countmap(col_data)\n",
    "        sorted_categories = sort(collect(category_counts), by=x->x[2], rev=true)\n",
    "        \n",
    "        # Take minimum between n and the number of unique categories\n",
    "        num_categories = min(n, length(sorted_categories))\n",
    "        \n",
    "        top_cats[feature] = [x[1] for x in sorted_categories[1:num_categories]]\n",
    "    end\n",
    "    return top_cats\n",
    "end\n",
    "\n",
    "# Get top k categories for specific features\n",
    "top_categories = get_top_categories(train_df, categorical_features)\n"
   ]
  },
  {
   "cell_type": "code",
   "execution_count": 7,
   "metadata": {},
   "outputs": [],
   "source": [
    "# Function to one-hot encode only the top categories\n",
    "function one_hot_top_categories!(df, top_categories)\n",
    "    for (feature, top_cats) in top_categories\n",
    "        if length(top_cats) == 2  # Handle the binary case\n",
    "            # Assuming the first category in top_cats is treated as 'true'\n",
    "            new_col_name = Symbol(string(feature, \"_binary\"))\n",
    "            df[!, new_col_name] = df[!, feature] .== top_cats[1]\n",
    "        else  # Handle the general case\n",
    "            for cat in top_cats\n",
    "                new_col_name = Symbol(string(feature, \"_\", cat))\n",
    "                df[!, new_col_name] = df[!, feature] .== cat\n",
    "            end\n",
    "        end\n",
    "        select!(df, Not(Symbol(feature)))  # Drop the original feature column\n",
    "    end\n",
    "end\n",
    "\n",
    "# Apply one-hot encoding\n",
    "one_hot_top_categories!(train_df, top_categories)\n",
    "\n",
    "# Serialize the top_categories dictionary to a binary file\n",
    "open(TOP_CATEGORIES, \"w\") do io\n",
    "    serialize(io, top_categories)\n",
    "end\n"
   ]
  },
  {
   "cell_type": "markdown",
   "metadata": {},
   "source": [
    "### Training the Regressor\n",
    "We choose Random Forest Regression model, but feel free to try your own and compare the results."
   ]
  },
  {
   "cell_type": "code",
   "execution_count": 8,
   "metadata": {},
   "outputs": [],
   "source": [
    "x_train = Matrix(train_df[:, Not([id_feature, target_feature])])\n",
    "target = train_df[!, target_feature]\n",
    "\n",
    "Random.seed!(1234)\n",
    "\n",
    "# train regression forest\n",
    "model = build_forest(\n",
    "    target, # labels\n",
    "    x_train, # features\n",
    "    0, # n_subfeatures\n",
    "    100, # n_trees\n",
    "    1.0, # partial_sampling\n",
    "    -1, # max_depth\n",
    "    4, # min_samples_leaf\n",
    "    8 # min_samples_split\n",
    ")\n",
    "\n",
    "open(PREDICTOR_FILE_PATH, \"w\") do io\n",
    "    serialize(io, model)\n",
    "end"
   ]
  },
  {
   "cell_type": "code",
   "execution_count": null,
   "metadata": {},
   "outputs": [],
   "source": []
  }
 ],
 "metadata": {
  "kernelspec": {
   "display_name": "Julia 1.9.3",
   "language": "julia",
   "name": "julia-1.9"
  },
  "language_info": {
   "file_extension": ".jl",
   "mimetype": "application/julia",
   "name": "julia",
   "version": "1.9.3"
  },
  "orig_nbformat": 4
 },
 "nbformat": 4,
 "nbformat_minor": 2
}
